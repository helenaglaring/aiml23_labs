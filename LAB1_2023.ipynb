{
 "cells": [
  {
   "cell_type": "markdown",
   "metadata": {},
   "source": [
    "#  Lab 1\n",
    "\n"
   ]
  },
  {
   "attachments": {},
   "cell_type": "markdown",
   "metadata": {},
   "source": [
    "feedback:\n",
    "- Good practice to add comments. \n",
    "- Q3, Q4, Q6 : When you choose to apply gridsearchCV, you can go ahead and fit to X_train_val directly. The question is set up to use a classic train/val/test split, which is why we write that you should evaluate on the val data. GridsearchCV, which does internal splits, would need the X_train_val data. Otherwise your are not using the train data at alL. Overall, good job"
   ]
  },
  {
   "cell_type": "markdown",
   "metadata": {},
   "source": [
    "##  Hand-Written Digit Recognition"
   ]
  },
  {
   "cell_type": "code",
   "execution_count": 43,
   "metadata": {
    "hide_input": false
   },
   "outputs": [],
   "source": [
    "import numpy as np\n",
    "import pandas as df\n",
    "\n",
    "from sklearn.model_selection import train_test_split\n",
    "\n",
    "# Models\n",
    "from sklearn.linear_model import LogisticRegression\n",
    "from sklearn.dummy import DummyClassifier\n",
    "from sklearn.tree import DecisionTreeClassifier\n",
    "from sklearn.ensemble import RandomForestClassifier\n",
    "from sklearn.neural_network import MLPClassifier\n",
    "\n",
    "# Evaluation\n",
    "from sklearn.metrics import accuracy_score, classification_report, recall_score, precision_score # For evaluating model performance\n",
    "\n",
    "# Hyperparameters\n",
    "from sklearn.model_selection import GridSearchCV\n",
    "\n",
    "import warnings\n",
    "warnings.filterwarnings('ignore')\n"
   ]
  },
  {
   "cell_type": "markdown",
   "metadata": {},
   "source": [
    "<h1>Import Digits Data</h1>"
   ]
  },
  {
   "cell_type": "code",
   "execution_count": 20,
   "metadata": {},
   "outputs": [],
   "source": [
    "from sklearn import datasets, metrics\n",
    "from sklearn.datasets import load_digits\n",
    "digits = load_digits()"
   ]
  },
  {
   "cell_type": "markdown",
   "metadata": {},
   "source": [
    "<h1>See what they look like</h1>"
   ]
  },
  {
   "cell_type": "code",
   "execution_count": 21,
   "metadata": {},
   "outputs": [
    {
     "data": {
      "image/png": "[encoded data removed]",
      "text/plain": [
       "<Figure size 1000x300 with 5 Axes>"
      ]
     },
     "metadata": {},
     "output_type": "display_data"
    }
   ],
   "source": [
    "import matplotlib.pyplot as plt\n",
    "digits = datasets.load_digits()\n",
    "\n",
    "_, axes = plt.subplots(nrows=1, ncols=5, figsize=(10, 3))\n",
    "for ax, image, label in zip(axes, digits.images, digits.target):\n",
    "    ax.set_axis_off()\n",
    "    ax.imshow(image, cmap=plt.cm.gray_r, interpolation='nearest')\n",
    "    ax.set_title('Training: %i' % label)"
   ]
  },
  {
   "attachments": {},
   "cell_type": "markdown",
   "metadata": {},
   "source": [
    "<h1>Question 0 - Dummy Classifier</h1>\n",
    "\n",
    "Split the digits.data and digits.target into train and test data. Create a dummy classifier for the digits data, with a strategy of \"most_frequent\", and print the score on test data. "
   ]
  },
  {
   "cell_type": "code",
   "execution_count": 22,
   "metadata": {},
   "outputs": [
    {
     "data": {
      "text/plain": [
       "(1797, 64)"
      ]
     },
     "execution_count": 22,
     "metadata": {},
     "output_type": "execute_result"
    }
   ],
   "source": [
    "# Creating the features vector X and the target vector y.\n",
    "\n",
    "# Target vector\n",
    "y = digits.target\n",
    "\n",
    "# Features matrix\n",
    "X = digits.data\n",
    "\n",
    "X.shape"
   ]
  },
  {
   "cell_type": "code",
   "execution_count": 23,
   "metadata": {},
   "outputs": [],
   "source": [
    "# Creating train-test split\n",
    "X_train, X_test, y_train, y_test = train_test_split(X, y, test_size=0.25, random_state=0)"
   ]
  },
  {
   "cell_type": "code",
   "execution_count": 24,
   "metadata": {},
   "outputs": [],
   "source": [
    "# Defining dummy classifier for the digits data with strategy of 'most_frequent'\n",
    "\n",
    "dummy_clf = DummyClassifier(strategy=\"most_frequent\")\n",
    "\n",
    "# Fitting the model to the training data\n",
    "dummy_clf.fit(X_train, y_train)\n",
    "\n",
    "# Predicting y\n",
    "y_dummy_clf_pred = dummy_clf.predict(X_test)"
   ]
  },
  {
   "cell_type": "code",
   "execution_count": 25,
   "metadata": {},
   "outputs": [
    {
     "name": "stdout",
     "output_type": "stream",
     "text": [
      "---------- Scores ----------\n",
      "Accuracy-score on training set: 0.106\n",
      "Accuracy-score on test set: 0.084\n",
      "\n"
     ]
    }
   ],
   "source": [
    "# Reporting scores on training and testing set \n",
    "print(\"---------- Scores ----------\")\n",
    "print(\"Accuracy-score on training set: {:.3f}\".format(dummy_clf.score(X_train, y_train)))\n",
    "print(\"Accuracy-score on test set: {:.3f}\\n\".format(dummy_clf.score(X_test, y_test)))"
   ]
  },
  {
   "attachments": {},
   "cell_type": "markdown",
   "metadata": {},
   "source": [
    "<h1>Question 1 - Logistic Regression</h1>\n",
    "Create a logistic regression model for the digits data and print the score on test data. Use metrics.classification_report to give a more detailed report of results."
   ]
  },
  {
   "cell_type": "code",
   "execution_count": 27,
   "metadata": {},
   "outputs": [],
   "source": [
    "# Building initial Logistic Regression Model - all parameters not specified are set to their defaults\n",
    "logr = LogisticRegression(\n",
    "    max_iter=10000, \n",
    "    random_state = 0,\n",
    "    multi_class='auto'\n",
    "    )\n",
    "\n",
    "# Train - Fitting the model to training set\n",
    "logr = logr.fit(X_train, y_train)\n",
    "\n",
    "\n"
   ]
  },
  {
   "cell_type": "code",
   "execution_count": 29,
   "metadata": {},
   "outputs": [
    {
     "name": "stdout",
     "output_type": "stream",
     "text": [
      "Accuracy on training set: 1.000\n",
      "Accuracy on testing set: 0.953\n",
      "\n"
     ]
    }
   ],
   "source": [
    "# Predict target values (y) for new data in test set\n",
    "y_logr_pred = logr.predict(X_test)\n",
    "\n",
    "# -- Classification report -- \n",
    "# Reporting scores on training and testing set \n",
    "print(\"Accuracy on training set: {:.3f}\".format(logr.score(X_train, y_train)))\n",
    "print(\"Accuracy on testing set: {:.3f}\\n\".format(logr.score(X_test, y_test)))\n",
    "\n",
    "# print('Precision-score %.3f' % precision_score(y_test, y_logr_pred))\n",
    "# print('Recall-score %.3f' % recall_score(y_test, y_logr_pred))"
   ]
  },
  {
   "cell_type": "code",
   "execution_count": 30,
   "metadata": {},
   "outputs": [
    {
     "name": "stdout",
     "output_type": "stream",
     "text": [
      "              precision    recall  f1-score   support\n",
      "\n",
      "           0       1.00      1.00      1.00        37\n",
      "           1       0.91      0.93      0.92        43\n",
      "           2       0.98      0.93      0.95        44\n",
      "           3       0.92      0.98      0.95        45\n",
      "           4       0.97      0.97      0.97        38\n",
      "           5       0.98      0.96      0.97        48\n",
      "           6       0.98      0.98      0.98        52\n",
      "           7       0.98      0.96      0.97        48\n",
      "           8       0.90      0.90      0.90        48\n",
      "           9       0.94      0.94      0.94        47\n",
      "\n",
      "    accuracy                           0.95       450\n",
      "   macro avg       0.95      0.95      0.95       450\n",
      "weighted avg       0.95      0.95      0.95       450\n",
      "\n"
     ]
    }
   ],
   "source": [
    "# Print classification report after tuning hyperparameters\n",
    "print(classification_report(y_test,y_logr_pred, digits=2))"
   ]
  },
  {
   "cell_type": "markdown",
   "metadata": {},
   "source": [
    "<h1>Question 2</h1>\n",
    "Create a 3-way split of the data, using train_test_split. First split into trainval and test, and then split trainval into train and val. "
   ]
  },
  {
   "cell_type": "code",
   "execution_count": 31,
   "metadata": {},
   "outputs": [],
   "source": [
    "# In the first step we will split the data in training-validation set - 20% test, 80% train\n",
    "X_trainval, X_test, y_trainval, y_test = train_test_split(X,y, test_size=0.2, random_state=0)"
   ]
  },
  {
   "cell_type": "code",
   "execution_count": 32,
   "metadata": {},
   "outputs": [],
   "source": [
    "# In the next step we will split the training-validation set into train and val\n",
    "X_train, X_val, y_train, y_val = train_test_split(X_trainval,y_trainval, test_size=0.2, random_state=0)"
   ]
  },
  {
   "cell_type": "markdown",
   "metadata": {},
   "source": [
    "<h1>Question 3</h1>\n",
    "Create a logistic regression classifier for the digits data. Write a loop that tries at least 4 values ranging from .001 to 1.0 for C. Use the val data to determine the best value. Then train on the combined train and val data, and score the resulting model on test. Use metrics.ConfusionMatrixDisplay.from_predictions to display a confusion matrix for all 10 classes. "
   ]
  },
  {
   "cell_type": "code",
   "execution_count": 33,
   "metadata": {},
   "outputs": [
    {
     "data": {
      "text/plain": [
       "{'C': 0.01}"
      ]
     },
     "execution_count": 33,
     "metadata": {},
     "output_type": "execute_result"
    }
   ],
   "source": [
    "# Applying RandomizedSearchCV for hyperparameter optimization for C\n",
    "\n",
    "# Model\n",
    "logreg = LogisticRegression()\n",
    "\n",
    "# parameter grid\n",
    "parameters = {\n",
    "    'C'       : [0.001, 0.01, 0.1, 1.0],\n",
    "}\n",
    "\n",
    "# using GridSearchCV\n",
    "logr_tuned = GridSearchCV(logreg,             # model\n",
    "                   param_grid = parameters,   # hyperparameters\n",
    "                   scoring='accuracy',        # metric for scoring\n",
    "                   cv=10)                     # cross-validation\n",
    "\n",
    "# Fitting model with optimized parameters using train-val data\n",
    "logr_tuned.fit(X_trainval,y_trainval)\n",
    "\n",
    "# Identifying the most optimal hyperparameters\n",
    "logr_tuned.best_params_"
   ]
  },
  {
   "cell_type": "code",
   "execution_count": 34,
   "metadata": {},
   "outputs": [],
   "source": [
    "# Tuning model with optimized hyperparameters \n",
    "logr_tuned = LogisticRegression(C = 0.01, max_iter=10000)\n",
    "\n",
    "# Train - Fitting model using the combined train and val data\n",
    "logr_tuned.fit(X_trainval, y_trainval)\n",
    "\n",
    "# Predict y using test set\n",
    "y_logr_pred = logr_tuned.predict(X_test)"
   ]
  },
  {
   "cell_type": "code",
   "execution_count": 35,
   "metadata": {},
   "outputs": [
    {
     "name": "stdout",
     "output_type": "stream",
     "text": [
      "Accuracy on training set: 0.993\n",
      "Accuracy on testing set: 0.961\n",
      "\n"
     ]
    }
   ],
   "source": [
    "# -- Classification report -- \n",
    "# Reporting scores on training and testing set \n",
    "print(\"Accuracy on training set: {:.3f}\".format(logr_tuned.score(X_train, y_train)))\n",
    "print(\"Accuracy on testing set: {:.3f}\\n\".format(logr_tuned.score(X_test, y_test)))"
   ]
  },
  {
   "cell_type": "code",
   "execution_count": 36,
   "metadata": {},
   "outputs": [
    {
     "name": "stdout",
     "output_type": "stream",
     "text": [
      "              precision    recall  f1-score   support\n",
      "\n",
      "           0       1.00      1.00      1.00        27\n",
      "           1       0.91      0.91      0.91        35\n",
      "           2       0.97      1.00      0.99        36\n",
      "           3       1.00      1.00      1.00        29\n",
      "           4       0.94      0.97      0.95        30\n",
      "           5       0.97      0.95      0.96        40\n",
      "           6       0.98      0.98      0.98        44\n",
      "           7       0.97      0.95      0.96        39\n",
      "           8       0.95      0.92      0.94        39\n",
      "           9       0.93      0.95      0.94        41\n",
      "\n",
      "    accuracy                           0.96       360\n",
      "   macro avg       0.96      0.96      0.96       360\n",
      "weighted avg       0.96      0.96      0.96       360\n",
      "\n"
     ]
    }
   ],
   "source": [
    "# Print classification report after tuning hyperparameters\n",
    "print(classification_report(y_test,y_logr_pred, digits=2))"
   ]
  },
  {
   "cell_type": "code",
   "execution_count": 39,
   "metadata": {},
   "outputs": [
    {
     "name": "stdout",
     "output_type": "stream",
     "text": [
      "              precision    recall  f1-score   support\n",
      "\n",
      "           0       1.00      1.00      1.00        27\n",
      "           1       0.91      0.91      0.91        35\n",
      "           2       0.97      1.00      0.99        36\n",
      "           3       1.00      1.00      1.00        29\n",
      "           4       0.94      0.97      0.95        30\n",
      "           5       0.97      0.95      0.96        40\n",
      "           6       0.98      0.98      0.98        44\n",
      "           7       0.97      0.95      0.96        39\n",
      "           8       0.95      0.92      0.94        39\n",
      "           9       0.93      0.95      0.94        41\n",
      "\n",
      "    accuracy                           0.96       360\n",
      "   macro avg       0.96      0.96      0.96       360\n",
      "weighted avg       0.96      0.96      0.96       360\n",
      "\n"
     ]
    },
    {
     "data": {
      "image/png": "[encoded data removed]",
      "text/plain": [
       "<Figure size 640x480 with 2 Axes>"
      ]
     },
     "metadata": {},
     "output_type": "display_data"
    }
   ],
   "source": [
    "metrics.ConfusionMatrixDisplay.from_predictions(y_test, y_logr_pred)\n",
    "print(metrics.classification_report(y_test, y_logr_pred))"
   ]
  },
  {
   "attachments": {},
   "cell_type": "markdown",
   "metadata": {},
   "source": [
    "<h1>Question 4 - Decision Tree Classifier</h1>\n",
    "Create a Decision Tree classifier for the digits data. Write a loop that tries values of 1 through 20 for maximum depth. Use the val data to determine the best value. "
   ]
  },
  {
   "cell_type": "code",
   "execution_count": 44,
   "metadata": {},
   "outputs": [
    {
     "data": {
      "text/plain": [
       "{'max_depth': 13}"
      ]
     },
     "execution_count": 44,
     "metadata": {},
     "output_type": "execute_result"
    }
   ],
   "source": [
    "# Applying GridSearchCV for hyperparameter optimization for max depth\n",
    "\n",
    "# Model\n",
    "dtree = DecisionTreeClassifier()\n",
    "\n",
    "depth = [int(x) for x in np.linspace(start = 1, stop = 20, num = 20)] # Returns array with values between 1 and 20\n",
    "\n",
    "# parameter grid\n",
    "parameters = {\n",
    "    'max_depth'       : depth,\n",
    "}\n",
    "\n",
    "# using GridSearchCV\n",
    "dtree_tuned = GridSearchCV(dtree,             # model\n",
    "                   param_grid = parameters,   # hyperparameters\n",
    "                   scoring='accuracy',        # metric for scoring\n",
    "                   cv=10)                     # cross-validation\n",
    "\n",
    "# Fitting model with optimized parameters using validation data\n",
    "dtree_tuned.fit(X_val,y_val)\n",
    "\n",
    "# Identifying the most optimal hyperparameters\n",
    "dtree_tuned.best_params_"
   ]
  },
  {
   "cell_type": "markdown",
   "metadata": {},
   "source": [
    "<h1>Question 5</h1>\n",
    "Now train the best decision tree model on the combined train and val data, and score the resulting model on test.  \n",
    "Use both metrics.classification_report and metrics.ConfusionMatrixDisplay.from_predictions to display the results in detail.\n"
   ]
  },
  {
   "cell_type": "code",
   "execution_count": 45,
   "metadata": {},
   "outputs": [],
   "source": [
    "# Tuning model with optimized hyperparameters \n",
    "dtree_tuned = DecisionTreeClassifier(max_depth=13)\n",
    "\n",
    "# Train - Fitting model using the combined train and val data\n",
    "dtree_tuned.fit(X_trainval, y_trainval)\n",
    "\n",
    "# Predict y using test set\n",
    "y_dtree_pred = dtree_tuned.predict(X_test)"
   ]
  },
  {
   "cell_type": "code",
   "execution_count": 46,
   "metadata": {},
   "outputs": [
    {
     "name": "stdout",
     "output_type": "stream",
     "text": [
      "Accuracy on training set: 1.000\n",
      "Accuracy on testing set: 0.875\n",
      "\n"
     ]
    }
   ],
   "source": [
    "# -- Classification report -- \n",
    "# Reporting scores on training and testing set \n",
    "print(\"Accuracy on training set: {:.3f}\".format(dtree_tuned.score(X_train, y_train)))\n",
    "print(\"Accuracy on testing set: {:.3f}\\n\".format(dtree_tuned.score(X_test, y_test)))"
   ]
  },
  {
   "cell_type": "code",
   "execution_count": 48,
   "metadata": {},
   "outputs": [
    {
     "name": "stdout",
     "output_type": "stream",
     "text": [
      "              precision    recall  f1-score   support\n",
      "\n",
      "           0       0.86      0.89      0.87        27\n",
      "           1       0.86      0.89      0.87        35\n",
      "           2       0.91      0.89      0.90        36\n",
      "           3       0.73      0.93      0.82        29\n",
      "           4       0.93      0.87      0.90        30\n",
      "           5       0.88      0.88      0.88        40\n",
      "           6       0.93      0.93      0.93        44\n",
      "           7       0.93      0.97      0.95        39\n",
      "           8       0.93      0.72      0.81        39\n",
      "           9       0.80      0.80      0.80        41\n",
      "\n",
      "    accuracy                           0.88       360\n",
      "   macro avg       0.88      0.88      0.87       360\n",
      "weighted avg       0.88      0.88      0.87       360\n",
      "\n"
     ]
    }
   ],
   "source": [
    "# Print classification report after tuning hyperparameters\n",
    "print(classification_report(y_test,y_dtree_pred, digits=2))"
   ]
  },
  {
   "cell_type": "code",
   "execution_count": 47,
   "metadata": {},
   "outputs": [
    {
     "name": "stdout",
     "output_type": "stream",
     "text": [
      "              precision    recall  f1-score   support\n",
      "\n",
      "           0       0.86      0.89      0.87        27\n",
      "           1       0.86      0.89      0.87        35\n",
      "           2       0.91      0.89      0.90        36\n",
      "           3       0.73      0.93      0.82        29\n",
      "           4       0.93      0.87      0.90        30\n",
      "           5       0.88      0.88      0.88        40\n",
      "           6       0.93      0.93      0.93        44\n",
      "           7       0.93      0.97      0.95        39\n",
      "           8       0.93      0.72      0.81        39\n",
      "           9       0.80      0.80      0.80        41\n",
      "\n",
      "    accuracy                           0.88       360\n",
      "   macro avg       0.88      0.88      0.87       360\n",
      "weighted avg       0.88      0.88      0.87       360\n",
      "\n"
     ]
    },
    {
     "data": {
      "image/png": "[encoded data removed]",
      "text/plain": [
       "<Figure size 640x480 with 2 Axes>"
      ]
     },
     "metadata": {},
     "output_type": "display_data"
    }
   ],
   "source": [
    "# Plotting confusion matrix \n",
    "metrics.ConfusionMatrixDisplay.from_predictions(y_test, y_dtree_pred)\n",
    "print(metrics.classification_report(y_test, y_dtree_pred))"
   ]
  },
  {
   "attachments": {},
   "cell_type": "markdown",
   "metadata": {},
   "source": [
    "<h1>Question 6 - Random Forest Classifier</h1>\n",
    "Create a Random Forest classifier for the digits data. Use the val data to determine the best values for \n",
    "<ul>\n",
    "    <li>number of estimators (from 50 to 500 by 50s)</li>\n",
    "    <li>Max depth (from 10 to 50 by 10s)</li>\n",
    "    </ul>\n",
    "        "
   ]
  },
  {
   "cell_type": "code",
   "execution_count": 57,
   "metadata": {},
   "outputs": [
    {
     "data": {
      "text/plain": [
       "{'max_depth': 40, 'n_estimators': 300}"
      ]
     },
     "execution_count": 57,
     "metadata": {},
     "output_type": "execute_result"
    }
   ],
   "source": [
    "# Applying GridSearchCV for hyperparameter optimization for n_estimators and max_depth\n",
    "\n",
    "# Model\n",
    "rf_clf = RandomForestClassifier()\n",
    "\n",
    "\n",
    "# parameter grid\n",
    "parameters = {\n",
    "    'n_estimators'    : np.arange(50, 550, 50), # Number of trees in the forest\n",
    "    'max_depth'       : np.arange(10, 60, 10),  # Max depth of each tree\n",
    "}\n",
    "\n",
    "# using GridSearchCV\n",
    "rf_clf_tuned = GridSearchCV(rf_clf ,             # model\n",
    "                   param_grid = parameters,   # hyperparameters\n",
    "                   scoring='accuracy',        # metric for scoring\n",
    "                   cv=10)                     # cross-validation\n",
    "\n",
    "# Fitting model with optimized parameters using validation data\n",
    "rf_clf_tuned.fit(X_val,y_val)\n",
    "\n",
    "# Identifying the most optimal hyperparameters\n",
    "rf_clf_tuned.best_params_\n"
   ]
  },
  {
   "cell_type": "markdown",
   "metadata": {},
   "source": [
    "<h1>Question 7</h1>\n",
    "Now train the best random forest model on the combined train and val data, and score the resulting model on test.  \n",
    "\n",
    "Use both metrics.classification_report and metrics.ConfusionMatrixDisplay.from_predictions to display the results in detail."
   ]
  },
  {
   "cell_type": "code",
   "execution_count": 59,
   "metadata": {},
   "outputs": [],
   "source": [
    "# Tuning model with optimized hyperparameters \n",
    "rf_clf_tuned = RandomForestClassifier(n_estimators=300, max_depth=40)\n",
    "\n",
    "# Train - Fitting model using the combined train and val data\n",
    "rf_clf_tuned.fit(X_trainval, y_trainval)\n",
    "\n",
    "# Predict y using test set\n",
    "y_rf_clf_pred = rf_clf_tuned.predict(X_test)"
   ]
  },
  {
   "cell_type": "code",
   "execution_count": 60,
   "metadata": {},
   "outputs": [
    {
     "name": "stdout",
     "output_type": "stream",
     "text": [
      "Accuracy on training set: 1.000\n",
      "Accuracy on testing set: 0.969\n",
      "\n"
     ]
    }
   ],
   "source": [
    "# -- Classification report -- \n",
    "# Reporting scores on training and testing set \n",
    "print(\"Accuracy on training set: {:.3f}\".format(rf_clf_tuned.score(X_train, y_train)))\n",
    "print(\"Accuracy on testing set: {:.3f}\\n\".format(rf_clf_tuned.score(X_test, y_test)))"
   ]
  },
  {
   "cell_type": "code",
   "execution_count": 61,
   "metadata": {},
   "outputs": [
    {
     "name": "stdout",
     "output_type": "stream",
     "text": [
      "              precision    recall  f1-score   support\n",
      "\n",
      "           0       0.96      1.00      0.98        27\n",
      "           1       0.92      1.00      0.96        35\n",
      "           2       1.00      0.94      0.97        36\n",
      "           3       0.94      1.00      0.97        29\n",
      "           4       1.00      0.97      0.98        30\n",
      "           5       0.95      0.97      0.96        40\n",
      "           6       1.00      0.98      0.99        44\n",
      "           7       0.95      1.00      0.97        39\n",
      "           8       1.00      0.90      0.95        39\n",
      "           9       0.97      0.95      0.96        41\n",
      "\n",
      "    accuracy                           0.97       360\n",
      "   macro avg       0.97      0.97      0.97       360\n",
      "weighted avg       0.97      0.97      0.97       360\n",
      "\n"
     ]
    }
   ],
   "source": [
    "# Print classification report after tuning hyperparameters\n",
    "print(classification_report(y_test,y_rf_clf_pred, digits=2))"
   ]
  },
  {
   "cell_type": "code",
   "execution_count": 62,
   "metadata": {},
   "outputs": [
    {
     "name": "stdout",
     "output_type": "stream",
     "text": [
      "              precision    recall  f1-score   support\n",
      "\n",
      "           0       0.96      1.00      0.98        27\n",
      "           1       0.92      1.00      0.96        35\n",
      "           2       1.00      0.94      0.97        36\n",
      "           3       0.94      1.00      0.97        29\n",
      "           4       1.00      0.97      0.98        30\n",
      "           5       0.95      0.97      0.96        40\n",
      "           6       1.00      0.98      0.99        44\n",
      "           7       0.95      1.00      0.97        39\n",
      "           8       1.00      0.90      0.95        39\n",
      "           9       0.97      0.95      0.96        41\n",
      "\n",
      "    accuracy                           0.97       360\n",
      "   macro avg       0.97      0.97      0.97       360\n",
      "weighted avg       0.97      0.97      0.97       360\n",
      "\n"
     ]
    },
    {
     "data": {
      "image/png": "[encoded data removed]",
      "text/plain": [
       "<Figure size 640x480 with 2 Axes>"
      ]
     },
     "metadata": {},
     "output_type": "display_data"
    }
   ],
   "source": [
    "# Plotting confusion matrix \n",
    "metrics.ConfusionMatrixDisplay.from_predictions(y_test, y_rf_clf_pred)\n",
    "print(metrics.classification_report(y_test, y_rf_clf_pred))"
   ]
  },
  {
   "attachments": {},
   "cell_type": "markdown",
   "metadata": {},
   "source": [
    "# <h1>Question 8 - MLP Classifier</h1>\n",
    "Create a MLP classifier for the digits data. Use the val data to determine the best values for \n",
    "hidden layer sizes. Try values from (10,10) to (210,210), increasing by 50s. You can use two nested loops for variables H1 and H2, and then assign (H1,H2) to the parameter hidden_layer_sizes.\n",
    "<p> Print the best values for the two hidden layer sizes</p>\n",
    "    \n",
    "        "
   ]
  },
  {
   "cell_type": "code",
   "execution_count": 69,
   "metadata": {},
   "outputs": [
    {
     "data": {
      "text/plain": [
       "{'hidden_layer_sizes': (110, 110)}"
      ]
     },
     "execution_count": 69,
     "metadata": {},
     "output_type": "execute_result"
    }
   ],
   "source": [
    "# Applying GridSearchCV for hyperparameter optimization for n_estimators and max_depth\n",
    "\n",
    "# Model\n",
    "mlp_clf = MLPClassifier(max_iter=1000)\n",
    "\n",
    "# creating loops for hyperparameter values for hidden_layer_sizes from (10,10) to (210,210)\n",
    "hls_values = []\n",
    "for h1 in range(10, 210, 50):\n",
    "    for h2 in range(10, 210, 50):\n",
    "        hls = (h1,h2)\n",
    "        hls_values.append(hls)\n",
    "\n",
    "# parameter grid\n",
    "parameters = {\n",
    "    'hidden_layer_sizes'    : hls_values, \n",
    "}\n",
    "\n",
    "# using GridSearchCV\n",
    "mlp_clf_tuned = GridSearchCV(mlp_clf ,             # model\n",
    "                   param_grid = parameters,   # hyperparameters\n",
    "                   scoring='accuracy',        # metric for scoring\n",
    "                   cv=10)                     # cross-validation\n",
    "\n",
    "# Fitting model with optimized parameters using validation data\n",
    "mlp_clf_tuned.fit(X_val,y_val)\n",
    "\n",
    "# Identifying the most optimal hyperparameters\n",
    "mlp_clf_tuned.best_params_\n"
   ]
  },
  {
   "cell_type": "markdown",
   "metadata": {},
   "source": [
    "<h1>Question 9</h1>"
   ]
  },
  {
   "cell_type": "markdown",
   "metadata": {},
   "source": [
    "Now train the best mlp model on the combined train and val data, and score the resulting model on test.  \n",
    "\n",
    "Use both metrics.classification_report and metrics.ConfusionMatrixDisplay.from_predictions to display the results in detail."
   ]
  },
  {
   "cell_type": "code",
   "execution_count": 71,
   "metadata": {},
   "outputs": [],
   "source": [
    "# Tuning model with optimized hyperparameters \n",
    "mlp_clf_tuned = MLPClassifier(hidden_layer_sizes=(110,110), max_iter=1000)\n",
    "\n",
    "# Train - Fitting model using the combined train and val data\n",
    "mlp_clf_tuned.fit(X_trainval, y_trainval)\n",
    "\n",
    "# Predict y using test set\n",
    "y_mlp_clf_pred = mlp_clf_tuned.predict(X_test)"
   ]
  },
  {
   "cell_type": "code",
   "execution_count": 72,
   "metadata": {},
   "outputs": [
    {
     "name": "stdout",
     "output_type": "stream",
     "text": [
      "Accuracy on training set: 1.000\n",
      "Accuracy on testing set: 0.981\n",
      "\n"
     ]
    }
   ],
   "source": [
    "# -- Classification report -- \n",
    "# Reporting scores on training and testing set \n",
    "print(\"Accuracy on training set: {:.3f}\".format(mlp_clf_tuned.score(X_train, y_train)))\n",
    "print(\"Accuracy on testing set: {:.3f}\\n\".format(mlp_clf_tuned.score(X_test, y_test)))"
   ]
  },
  {
   "cell_type": "code",
   "execution_count": 73,
   "metadata": {},
   "outputs": [
    {
     "name": "stdout",
     "output_type": "stream",
     "text": [
      "              precision    recall  f1-score   support\n",
      "\n",
      "           0       1.00      1.00      1.00        27\n",
      "           1       0.95      1.00      0.97        35\n",
      "           2       1.00      1.00      1.00        36\n",
      "           3       0.97      1.00      0.98        29\n",
      "           4       0.94      1.00      0.97        30\n",
      "           5       0.97      0.97      0.97        40\n",
      "           6       1.00      0.98      0.99        44\n",
      "           7       1.00      0.95      0.97        39\n",
      "           8       1.00      0.95      0.97        39\n",
      "           9       0.98      0.98      0.98        41\n",
      "\n",
      "    accuracy                           0.98       360\n",
      "   macro avg       0.98      0.98      0.98       360\n",
      "weighted avg       0.98      0.98      0.98       360\n",
      "\n"
     ]
    }
   ],
   "source": [
    "# Print classification report after tuning hyperparameters\n",
    "print(classification_report(y_test,y_mlp_clf_pred, digits=2))"
   ]
  },
  {
   "cell_type": "code",
   "execution_count": 74,
   "metadata": {},
   "outputs": [
    {
     "name": "stdout",
     "output_type": "stream",
     "text": [
      "              precision    recall  f1-score   support\n",
      "\n",
      "           0       1.00      1.00      1.00        27\n",
      "           1       0.95      1.00      0.97        35\n",
      "           2       1.00      1.00      1.00        36\n",
      "           3       0.97      1.00      0.98        29\n",
      "           4       0.94      1.00      0.97        30\n",
      "           5       0.97      0.97      0.97        40\n",
      "           6       1.00      0.98      0.99        44\n",
      "           7       1.00      0.95      0.97        39\n",
      "           8       1.00      0.95      0.97        39\n",
      "           9       0.98      0.98      0.98        41\n",
      "\n",
      "    accuracy                           0.98       360\n",
      "   macro avg       0.98      0.98      0.98       360\n",
      "weighted avg       0.98      0.98      0.98       360\n",
      "\n"
     ]
    },
    {
     "data": {
      "image/png": "[encoded data removed]",
      "text/plain": [
       "<Figure size 640x480 with 2 Axes>"
      ]
     },
     "metadata": {},
     "output_type": "display_data"
    }
   ],
   "source": [
    "# Plotting confusion matrix \n",
    "metrics.ConfusionMatrixDisplay.from_predictions(y_test, y_mlp_clf_pred)\n",
    "print(metrics.classification_report(y_test, y_mlp_clf_pred))"
   ]
  }
 ],
 "metadata": {
  "anaconda-cloud": {},
  "kernelspec": {
   "display_name": "Python 3",
   "language": "python",
   "name": "python3"
  },
  "language_info": {
   "codemirror_mode": {
    "name": "ipython",
    "version": 3
   },
   "file_extension": ".py",
   "mimetype": "text/x-python",
   "name": "python",
   "nbconvert_exporter": "python",
   "pygments_lexer": "ipython3",
   "version": "3.9.7"
  },
  "vscode": {
   "interpreter": {
    "hash": "aee8b7b246df8f9039afb4144a1f6fd8d2ca17a180786b69acc140d282b71a49"
   }
  }
 },
 "nbformat": 4,
 "nbformat_minor": 4
}
