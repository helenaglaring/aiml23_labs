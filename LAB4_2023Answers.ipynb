{
 "cells": [
  {
   "cell_type": "code",
   "execution_count": 1,
   "metadata": {},
   "outputs": [],
   "source": [
    "import pandas as pd\n",
    "import matplotlib.pyplot as plt\n",
    "\n",
    "# learners\n",
    "from sklearn.linear_model import LogisticRegression\n",
    "from sklearn.linear_model import SGDClassifier\n",
    "from sklearn.dummy import DummyClassifier\n",
    "\n",
    "# embeddings\n",
    "from sklearn.feature_extraction.text import CountVectorizer\n",
    "from sklearn.feature_extraction.text import TfidfVectorizer\n",
    "\n",
    "# preprocessing\n",
    "from sklearn.model_selection import train_test_split\n",
    "\n",
    "# evaluation\n",
    "from sklearn.metrics import classification_report\n",
    "\n",
    "# pipeline\n",
    "from sklearn.model_selection import GridSearchCV\n",
    "from sklearn.pipeline import Pipeline"
   ]
  },
  {
   "attachments": {},
   "cell_type": "markdown",
   "metadata": {},
   "source": [
    "## Question 1\n",
    "\n",
    "- Create a dataframe by reading the file `eng.csv`. You can find the .csv file under \"files\" on Canvas. (We suggest you take a sample of the data, for example with 1,000, 10,000 or 20,000 instances, to save computing time.) \n",
    "\n",
    "- Use value_counts to see the counts for each value of the column, `emotion`. \n",
    "\n",
    "We will create models to predict emotions based on texts. Assign the `text` column to X and the `emotion` column to y."
   ]
  },
  {
   "cell_type": "code",
   "execution_count": 9,
   "metadata": {},
   "outputs": [
    {
     "name": "stdout",
     "output_type": "stream",
     "text": [
      "<class 'pandas.core.frame.DataFrame'>\n",
      "Int64Index: 1000 entries, 203231 to 148352\n",
      "Data columns (total 3 columns):\n",
      " #   Column    Non-Null Count  Dtype \n",
      "---  ------    --------------  ----- \n",
      " 0   text      1000 non-null   object\n",
      " 1   emotion   1000 non-null   object\n",
      " 2   language  1000 non-null   object\n",
      "dtypes: object(3)\n",
      "memory usage: 31.2+ KB\n"
     ]
    }
   ],
   "source": [
    "df = pd.read_csv(\"data/eng.csv\").sample(1000)\n",
    "df.info()"
   ]
  },
  {
   "cell_type": "code",
   "execution_count": 10,
   "metadata": {},
   "outputs": [
    {
     "data": {
      "text/plain": [
       "anticipation    413\n",
       "joy             382\n",
       "sadness         120\n",
       "anger            68\n",
       "fear             17\n",
       "Name: emotion, dtype: int64"
      ]
     },
     "execution_count": 10,
     "metadata": {},
     "output_type": "execute_result"
    }
   ],
   "source": [
    "df[\"emotion\"].value_counts()"
   ]
  },
  {
   "cell_type": "code",
   "execution_count": 11,
   "metadata": {},
   "outputs": [],
   "source": [
    "X = df['text']\n",
    "y = df['emotion']"
   ]
  },
  {
   "cell_type": "code",
   "execution_count": 12,
   "metadata": {},
   "outputs": [
    {
     "data": {
      "text/plain": [
       "anticipation    413\n",
       "joy             382\n",
       "sadness         120\n",
       "anger            68\n",
       "fear             17\n",
       "Name: emotion, dtype: int64"
      ]
     },
     "execution_count": 12,
     "metadata": {},
     "output_type": "execute_result"
    }
   ],
   "source": [
    "df[\"emotion\"].value_counts()"
   ]
  },
  {
   "attachments": {},
   "cell_type": "markdown",
   "metadata": {},
   "source": [
    "## Question 2\n",
    "\n",
    "- Perform a train test split and then fit_transform a `Countvectorizer` on X_train and transform X_test."
   ]
  },
  {
   "cell_type": "code",
   "execution_count": 13,
   "metadata": {},
   "outputs": [],
   "source": [
    "(\n",
    "    X_train,\n",
    "    X_test,\n",
    "    y_train,\n",
    "    y_test\n",
    ") = train_test_split(\n",
    "    X,\n",
    "    y,\n",
    "    stratify=y,\n",
    "    shuffle=True,\n",
    "    random_state=1\n",
    ")"
   ]
  },
  {
   "cell_type": "code",
   "execution_count": 14,
   "metadata": {},
   "outputs": [],
   "source": [
    "# Vectorizer\n",
    "cv = CountVectorizer()\n",
    "X_train_cv = cv.fit_transform(X_train)\n",
    "X_test_cv = cv.transform(X_test)"
   ]
  },
  {
   "attachments": {},
   "cell_type": "markdown",
   "metadata": {},
   "source": [
    "#### Plotting top N tokens"
   ]
  },
  {
   "cell_type": "code",
   "execution_count": null,
   "metadata": {},
   "outputs": [],
   "source": [
    "N = 20\n",
    "\n",
    "def top_n_tokens(X, cv, N, plot=True):\n",
    "    sum_words = X.sum(axis=0)\n",
    "    words_freq = [(word, sum_words[0, idx]) for word, idx in cv.vocabulary_.items()]\n",
    "    top_words_freq = sorted(words_freq, key = lambda x: x[1], reverse=True)[:N]\n",
    "\n",
    "    if plot:\n",
    "        plt.figure(figsize=(10, 5))\n",
    "        plt.bar([w[0] for w in top_words_freq], [w[1] for w in top_words_freq])\n",
    "        plt.xticks(rotation=45)\n",
    "        plt.xlabel('Token')\n",
    "        plt.ylabel('Frequency')\n",
    "        plt.show()\n",
    "    else:\n",
    "        return top_words_freq\n",
    "    \n",
    "top_n_tokens(X_train_cv, cv, N)\n"
   ]
  },
  {
   "attachments": {},
   "cell_type": "markdown",
   "metadata": {},
   "source": [
    "## Question 3\n",
    "\n",
    "- Build one or more classifiers. \n",
    "- Report the accuracy score for vectorized train and test data.\n",
    "- Print a classification report for model performance on vectorized test data"
   ]
  },
  {
   "cell_type": "code",
   "execution_count": 15,
   "metadata": {},
   "outputs": [
    {
     "data": {
      "text/plain": [
       "235123    anticipation\n",
       "160087    anticipation\n",
       "44494              joy\n",
       "276268             joy\n",
       "270096    anticipation\n",
       "              ...     \n",
       "19111            anger\n",
       "224359    anticipation\n",
       "62715              joy\n",
       "148387             joy\n",
       "199116    anticipation\n",
       "Name: emotion, Length: 750, dtype: object"
      ]
     },
     "execution_count": 15,
     "metadata": {},
     "output_type": "execute_result"
    }
   ],
   "source": [
    "y_train"
   ]
  },
  {
   "cell_type": "code",
   "execution_count": 16,
   "metadata": {},
   "outputs": [
    {
     "data": {
      "text/html": [
       "<style>#sk-container-id-1 {color: black;background-color: white;}#sk-container-id-1 pre{padding: 0;}#sk-container-id-1 div.sk-toggleable {background-color: white;}#sk-container-id-1 label.sk-toggleable__label {cursor: pointer;display: block;width: 100%;margin-bottom: 0;padding: 0.3em;box-sizing: border-box;text-align: center;}#sk-container-id-1 label.sk-toggleable__label-arrow:before {content: \"▸\";float: left;margin-right: 0.25em;color: #696969;}#sk-container-id-1 label.sk-toggleable__label-arrow:hover:before {color: black;}#sk-container-id-1 div.sk-estimator:hover label.sk-toggleable__label-arrow:before {color: black;}#sk-container-id-1 div.sk-toggleable__content {max-height: 0;max-width: 0;overflow: hidden;text-align: left;background-color: #f0f8ff;}#sk-container-id-1 div.sk-toggleable__content pre {margin: 0.2em;color: black;border-radius: 0.25em;background-color: #f0f8ff;}#sk-container-id-1 input.sk-toggleable__control:checked~div.sk-toggleable__content {max-height: 200px;max-width: 100%;overflow: auto;}#sk-container-id-1 input.sk-toggleable__control:checked~label.sk-toggleable__label-arrow:before {content: \"▾\";}#sk-container-id-1 div.sk-estimator input.sk-toggleable__control:checked~label.sk-toggleable__label {background-color: #d4ebff;}#sk-container-id-1 div.sk-label input.sk-toggleable__control:checked~label.sk-toggleable__label {background-color: #d4ebff;}#sk-container-id-1 input.sk-hidden--visually {border: 0;clip: rect(1px 1px 1px 1px);clip: rect(1px, 1px, 1px, 1px);height: 1px;margin: -1px;overflow: hidden;padding: 0;position: absolute;width: 1px;}#sk-container-id-1 div.sk-estimator {font-family: monospace;background-color: #f0f8ff;border: 1px dotted black;border-radius: 0.25em;box-sizing: border-box;margin-bottom: 0.5em;}#sk-container-id-1 div.sk-estimator:hover {background-color: #d4ebff;}#sk-container-id-1 div.sk-parallel-item::after {content: \"\";width: 100%;border-bottom: 1px solid gray;flex-grow: 1;}#sk-container-id-1 div.sk-label:hover label.sk-toggleable__label {background-color: #d4ebff;}#sk-container-id-1 div.sk-serial::before {content: \"\";position: absolute;border-left: 1px solid gray;box-sizing: border-box;top: 0;bottom: 0;left: 50%;z-index: 0;}#sk-container-id-1 div.sk-serial {display: flex;flex-direction: column;align-items: center;background-color: white;padding-right: 0.2em;padding-left: 0.2em;position: relative;}#sk-container-id-1 div.sk-item {position: relative;z-index: 1;}#sk-container-id-1 div.sk-parallel {display: flex;align-items: stretch;justify-content: center;background-color: white;position: relative;}#sk-container-id-1 div.sk-item::before, #sk-container-id-1 div.sk-parallel-item::before {content: \"\";position: absolute;border-left: 1px solid gray;box-sizing: border-box;top: 0;bottom: 0;left: 50%;z-index: -1;}#sk-container-id-1 div.sk-parallel-item {display: flex;flex-direction: column;z-index: 1;position: relative;background-color: white;}#sk-container-id-1 div.sk-parallel-item:first-child::after {align-self: flex-end;width: 50%;}#sk-container-id-1 div.sk-parallel-item:last-child::after {align-self: flex-start;width: 50%;}#sk-container-id-1 div.sk-parallel-item:only-child::after {width: 0;}#sk-container-id-1 div.sk-dashed-wrapped {border: 1px dashed gray;margin: 0 0.4em 0.5em 0.4em;box-sizing: border-box;padding-bottom: 0.4em;background-color: white;}#sk-container-id-1 div.sk-label label {font-family: monospace;font-weight: bold;display: inline-block;line-height: 1.2em;}#sk-container-id-1 div.sk-label-container {text-align: center;}#sk-container-id-1 div.sk-container {/* jupyter's `normalize.less` sets `[hidden] { display: none; }` but bootstrap.min.css set `[hidden] { display: none !important; }` so we also need the `!important` here to be able to override the default hidden behavior on the sphinx rendered scikit-learn.org. See: https://github.com/scikit-learn/scikit-learn/issues/21755 */display: inline-block !important;position: relative;}#sk-container-id-1 div.sk-text-repr-fallback {display: none;}</style><div id=\"sk-container-id-1\" class=\"sk-top-container\"><div class=\"sk-text-repr-fallback\"><pre>LogisticRegression(max_iter=5000)</pre><b>In a Jupyter environment, please rerun this cell to show the HTML representation or trust the notebook. <br />On GitHub, the HTML representation is unable to render, please try loading this page with nbviewer.org.</b></div><div class=\"sk-container\" hidden><div class=\"sk-item\"><div class=\"sk-estimator sk-toggleable\"><input class=\"sk-toggleable__control sk-hidden--visually\" id=\"sk-estimator-id-1\" type=\"checkbox\" checked><label for=\"sk-estimator-id-1\" class=\"sk-toggleable__label sk-toggleable__label-arrow\">LogisticRegression</label><div class=\"sk-toggleable__content\"><pre>LogisticRegression(max_iter=5000)</pre></div></div></div></div></div>"
      ],
      "text/plain": [
       "LogisticRegression(max_iter=5000)"
      ]
     },
     "execution_count": 16,
     "metadata": {},
     "output_type": "execute_result"
    }
   ],
   "source": [
    "lr = LogisticRegression(solver='lbfgs', max_iter=5000)\n",
    "lr.fit(X_train_cv, y_train)"
   ]
  },
  {
   "cell_type": "code",
   "execution_count": null,
   "metadata": {},
   "outputs": [],
   "source": [
    "lr_score = lr.score(X_train_cv, y_train)\n",
    "print(\"Train\", lr_score)\n",
    "\n",
    "lr_score = lr.score(X_test_cv, y_test)\n",
    "print(\"Test\", lr_score)"
   ]
  },
  {
   "cell_type": "code",
   "execution_count": null,
   "metadata": {},
   "outputs": [],
   "source": [
    "y_pred = lr.predict(X_test_cv)\n",
    "print(classification_report(y_test, y_pred))"
   ]
  },
  {
   "cell_type": "code",
   "execution_count": null,
   "metadata": {},
   "outputs": [],
   "source": [
    "sgd = SGDClassifier(loss='modified_huber', max_iter=5000)\n",
    "sgd.fit(X_train_cv, y_train)\n",
    "\n",
    "sgd_score = sgd.score(X_train_cv, y_train)\n",
    "print(\"Train\", sgd_score)\n",
    "\n",
    "sgd_score = sgd.score(X_test_cv, y_test)\n",
    "print(\"Test\", sgd_score)\n",
    "\n",
    "y_pred = sgd.predict(X_test_cv)\n",
    "print(classification_report(y_test, y_pred))\n"
   ]
  },
  {
   "attachments": {},
   "cell_type": "markdown",
   "metadata": {},
   "source": [
    "## Question 4\n",
    "In the above model(s), we used unigrams (single words) only. This is the default for count_vectorizer. \n",
    "\n",
    "- Try with unigrams and bigrams, and also unigrams, bigrams and trigrams.  \n",
    "You do this by setting ngram_range for `CountVectorizer`. \n",
    "\n",
    "- Build a logistic regression model for each of these settings and report on the results."
   ]
  },
  {
   "cell_type": "code",
   "execution_count": null,
   "metadata": {},
   "outputs": [],
   "source": [
    "def ngram_experiment(data, count_vect, ngram_range, model1, model2):\n",
    "\n",
    "    results = []\n",
    "\n",
    "    model1_name = model1.__class__.__name__\n",
    "    model2_name = model2.__class__.__name__\n",
    "    \n",
    "    for ngrams in ngram_range:\n",
    "        print(\"Running n-grams:\", ngrams)\n",
    "        count_vect.ngram_range = ngrams\n",
    "\n",
    "        X_train_cv = count_vect.fit_transform(data[\"X_train\"])\n",
    "        model1.fit(X_train_cv, data[\"y_train\"])\n",
    "        model2.fit(X_train_cv, data[\"y_train\"])\n",
    "\n",
    "\n",
    "        X_test_cv = count_vect.transform(data[\"X_test\"])\n",
    "\n",
    "        results.append(\n",
    "            {\n",
    "                \"ngrams\": ngrams,\n",
    "                \"vocabulary_size\": len(count_vect.vocabulary_),\n",
    "                f\"{model1_name}_train\": model1.score(X_train_cv, data[\"y_train\"]).round(3),\n",
    "                f\"{model1_name}_test\": model1.score(X_test_cv, data[\"y_test\"]).round(3),\n",
    "                f\"{model2_name}_train\": model2.score(X_train_cv, data[\"y_train\"]).round(3),\n",
    "                f\"{model2_name}_test\": model2.score(X_test_cv, data[\"y_test\"]).round(3),\n",
    "            }\n",
    "        )\n",
    "    return (\n",
    "        pd.DataFrame(results)\n",
    "        .assign(\n",
    "            mean_train=lambda x: x[[f\"{model1_name}_train\", f\"{model2_name}_train\"]].mean(axis=1).round(3),\n",
    "        )\n",
    "        .sort_values(\"mean_train\", ascending=False)\n",
    "    )\n",
    "\n",
    "    \n",
    "\n",
    "\n",
    "ngram_experiment(\n",
    "    data={\n",
    "        \"X_train\": X_train,\n",
    "        \"y_train\": y_train,\n",
    "        \"X_test\": X_test,\n",
    "        \"y_test\": y_test,\n",
    "    },\n",
    "    count_vect=cv,\n",
    "    ngram_range=[(1, 1), (1, 2), (1, 3), (2, 3)],\n",
    "    model1=lr,\n",
    "    model2=sgd,\n",
    ")"
   ]
  },
  {
   "attachments": {},
   "cell_type": "markdown",
   "metadata": {},
   "source": [
    "<h2>Question 5</h2>\n",
    "\n",
    "- Use dummy classifier with the default settings (most frequent class), and the uniform strategy (random guessing). \n",
    "\n",
    "- Select the `CountVectorizer` with the optimal `nram_range`. Use the vectorized version of the data from this model.\n",
    "- Print the train and test results for each dummy classifier, to determine some baselines for comparison."
   ]
  },
  {
   "cell_type": "code",
   "execution_count": null,
   "metadata": {},
   "outputs": [],
   "source": [
    "cv = CountVectorizer(ngram_range=(1, 3))\n",
    "\n",
    "X_train_cv = cv.fit_transform(X_train)\n",
    "X_test_cv = cv.transform(X_test)"
   ]
  },
  {
   "cell_type": "code",
   "execution_count": null,
   "metadata": {},
   "outputs": [],
   "source": [
    "dummy = DummyClassifier()\n",
    "dummy.fit(X_train_cv, y_train)\n",
    "\n",
    "print(\"Train\", dummy.score(X_train_cv, y_train))\n",
    "print(\"Test\", dummy.score(X_test_cv, y_test))"
   ]
  },
  {
   "cell_type": "code",
   "execution_count": null,
   "metadata": {},
   "outputs": [],
   "source": [
    "dummy.strategy = \"uniform\"\n",
    "dummy.fit(X_train_cv, y_train)\n",
    "\n",
    "print(\"Train\", dummy.score(X_train_cv, y_train))\n",
    "print(\"Test\", dummy.score(X_test_cv, y_test))"
   ]
  },
  {
   "attachments": {},
   "cell_type": "markdown",
   "metadata": {},
   "source": [
    "## Question 6\n",
    "\n",
    "- Use the `TfidfTransformer`, to create Term Frequency - Inverse Document Frequency (tfidf) scores instead of frequency scores. \n",
    "- You can apply the `TfidfTransformer` on the vectors created by `CountVectorizer`, using the fit_transform method just as is done with `CountVectorizer`. \n",
    "- Create a logistic regression model with the data produced by `TfidfTransformer`, and report the scores on train and test.\n",
    "\n",
    "- **TIP**: Instead of calculating frequencies with `CountVectorizer` and *then* calculating TF-IDF scores from said frequencies, you can import and call `TfidfVectorizer` directly, with the same syntax as you used for `CountVectorizer`"
   ]
  },
  {
   "cell_type": "code",
   "execution_count": null,
   "metadata": {},
   "outputs": [],
   "source": [
    "tf_idf = TfidfVectorizer(ngram_range=(1, 3), stop_words=\"english\")\n",
    "X_train_tfidf = tf_idf.fit_transform(X_train)\n",
    "X_test_tfidf = tf_idf.transform(X_test)"
   ]
  },
  {
   "cell_type": "code",
   "execution_count": null,
   "metadata": {},
   "outputs": [],
   "source": [
    "# plot top 20 tokens\n",
    "top_n_tokens(X_train_tfidf, tf_idf, N=30)"
   ]
  },
  {
   "cell_type": "code",
   "execution_count": null,
   "metadata": {},
   "outputs": [],
   "source": [
    "lr = LogisticRegression(solver='lbfgs', multi_class='auto',random_state=0, max_iter=5_000)\n",
    "\n",
    "lr.fit(X_train_tfidf, y_train)\n",
    "lr_score = lr.score(X_train_tfidf, y_train)\n",
    "print(\"Train\", lr_score)\n",
    "lr_score = lr.score(X_test_tfidf, y_test)\n",
    "print(\"Test\", lr_score)"
   ]
  },
  {
   "cell_type": "code",
   "execution_count": null,
   "metadata": {},
   "outputs": [],
   "source": [
    "preds = lr.predict(X_test_tfidf)\n",
    "print(classification_report(y_test, preds))"
   ]
  },
  {
   "attachments": {},
   "cell_type": "markdown",
   "metadata": {},
   "source": [
    "<h2>Question 7</h2>\n",
    "\n",
    "\n",
    "- Create a Scikit-Learn `Pipeline`, consisting of `CountVectorizer`, `TfidfTransformer`, and `LogisticRegression`. \n",
    "\n",
    "- Apply the pipeline to the training data, just as in the previous question, and report results on train and test."
   ]
  },
  {
   "cell_type": "code",
   "execution_count": null,
   "metadata": {},
   "outputs": [],
   "source": [
    "pipe = Pipeline(\n",
    "    [\n",
    "        (\"tfidf\", TfidfVectorizer()),\n",
    "        (\"clf\", LogisticRegression(max_iter=5000))\n",
    "    ],\n",
    "    verbose=True\n",
    ")\n",
    "pipe.fit(X_train,y_train)\n",
    "\n",
    "print(\"Train\", pipe.score(X_train, y_train))\n",
    "print(\"Test\", pipe.score(X_test, y_test))\n"
   ]
  },
  {
   "attachments": {},
   "cell_type": "markdown",
   "metadata": {},
   "source": [
    "<h2>Question 8</h2>\n",
    "\n",
    "- Use the above pipeline with GridSearchCV. \n",
    "\n",
    "**Hint** You can use the following choices for parameters: \n",
    "- for CountVectorizer, use ngram ranges of (1,1), (1,2), and (1,3). \n",
    "- For TfidfTransformer set the *use_idf* parameter to `True` or `False`. Print the best score and best parameter choices."
   ]
  },
  {
   "cell_type": "code",
   "execution_count": null,
   "metadata": {},
   "outputs": [],
   "source": [
    "params = { \n",
    "    \"tfidf__ngram_range\": ((1,1), (1,2), (1,3)),\n",
    "    \"tfidf__stop_words\": (None, \"english\"),\n",
    "    \"tfidf__min_df\": (0.1, 1),\n",
    "    \"tfidf__max_df\": (0.5, 0.75, 1),\n",
    "    \"clf__penalty\": (\"l1\", \"l2\"),\n",
    "    \"clf__solver\": (\"liblinear\", \"saga\", \"lbfgs\"),\n",
    "  }\n",
    "grid_search = GridSearchCV(pipe, params, n_jobs=-1, verbose=1,cv=3)\n",
    "grid_search.fit(X_train, y_train)"
   ]
  },
  {
   "cell_type": "code",
   "execution_count": null,
   "metadata": {},
   "outputs": [],
   "source": [
    "print(f\"Best score: {grid_search.best_score_:.3f}\")\n",
    "print(\"Best parameters set:\")\n",
    "best_parameters = grid_search.best_estimator_.get_params()\n",
    "for param_name in sorted(params.keys()):\n",
    "    print(\"\\t%s: %r\" % (param_name, best_parameters[param_name]))\n",
    "\n",
    "print(\"Train\", grid_search.score(X_train, y_train))\n",
    "print(\"Test\", grid_search.score(X_test, y_test))"
   ]
  },
  {
   "cell_type": "code",
   "execution_count": null,
   "metadata": {},
   "outputs": [],
   "source": [
    "param_char = {\n",
    "    \"tfidf__ngram_range\": ((4,7), (5, 8)),\n",
    "    \"tfidf__analyzer\": [\"char\"],\n",
    "    \"tfidf__min_df\": (0.05, 0.1, 1),\n",
    "    \"tfidf__max_df\": (0.75, 1),\n",
    "    \"clf__solver\": (\"liblinear\", \"lbfgs\"),\n",
    "\n",
    "  }\n",
    "grid_search = GridSearchCV(pipe, param_char, n_jobs=-2, verbose=1,cv=3)\n",
    "grid_search.fit(X_train, y_train)"
   ]
  },
  {
   "cell_type": "code",
   "execution_count": null,
   "metadata": {},
   "outputs": [],
   "source": [
    "print(f\"Best score: {grid_search.best_score_:.3f}\")\n",
    "print(\"Best parameters set:\")\n",
    "\n",
    "best_parameters = grid_search.best_estimator_.get_params()\n",
    "for param_name in sorted(param_char.keys()):\n",
    "    print(\"\\t%s: %r\" % (param_name, best_parameters[param_name]))\n",
    "\n",
    "print(\"Train\", grid_search.score(X_train, y_train))\n",
    "print(\"Test\", grid_search.score(X_test, y_test))"
   ]
  },
  {
   "cell_type": "markdown",
   "metadata": {},
   "source": [
    "<h2>Question 9</h2>\n",
    "Use classification report with the best model resulting from grid_search in the previous two questions."
   ]
  },
  {
   "cell_type": "code",
   "execution_count": null,
   "metadata": {},
   "outputs": [],
   "source": [
    "print(classification_report(y_test, grid_search.predict(X_test), zero_division=0))"
   ]
  },
  {
   "attachments": {},
   "cell_type": "markdown",
   "metadata": {},
   "source": [
    "## Bonus: Question 10\n",
    "Let's go back to question 1 and convert the problem to a binary one. \n",
    "\n",
    "- Map (\"joy\", \"anticipation\") to \"positive\" and (\"anger\", \"fear\", \"sadness\") to \"negative\" (Use the snippet below)\n",
    "\n",
    "- Then rerun the experiments above with this new scope. \n",
    "- Report what your new baseline and comment on the effect of changing the scope."
   ]
  },
  {
   "cell_type": "code",
   "execution_count": null,
   "metadata": {},
   "outputs": [],
   "source": [
    "df[\"emotion\"] = df[\"emotion\"].replace(\n",
    "    {\n",
    "        \"joy\": \"positive\",\n",
    "        \"anticipation\": \"positive\",\n",
    "        \"anger\": \"negative\",\n",
    "        \"fear\": \"negative\",\n",
    "        \"sadness\": \"negative\"\n",
    "    }\n",
    ")"
   ]
  }
 ],
 "metadata": {
  "kernelspec": {
   "display_name": "aiml-labs",
   "language": "python",
   "name": "python3"
  },
  "language_info": {
   "codemirror_mode": {
    "name": "ipython",
    "version": 3
   },
   "file_extension": ".py",
   "mimetype": "text/x-python",
   "name": "python",
   "nbconvert_exporter": "python",
   "pygments_lexer": "ipython3",
   "version": "3.11.0"
  },
  "vscode": {
   "interpreter": {
    "hash": "8d77d28a67414aa99f7db93e68370e394e43cfb4c0fb7ae71ae87a2626520d84"
   }
  }
 },
 "nbformat": 4,
 "nbformat_minor": 4
}
